{
 "cells": [
  {
   "cell_type": "code",
   "execution_count": null,
   "metadata": {
    "vscode": {
     "languageId": "shellscript"
    }
   },
   "outputs": [],
   "source": [
    "echo '--' >> README.md ; git add README.md ; git commit -m \"doc: update readme\" --date \"2024-07-04 12:00:00\" ; git push ; sed '$d' README.md > tmp.md ; cat tmp.md > README.md"
   ]
  },
  {
   "cell_type": "code",
   "execution_count": 10,
   "metadata": {},
   "outputs": [
    {
     "name": "stdout",
     "output_type": "stream",
     "text": [
      "On branch main\n",
      "Your branch is up to date with 'origin/main'.\n",
      "\n",
      "Untracked files:\n",
      "\ttest.ipynb\n",
      "\ttmp.md\n",
      "\n",
      "nothing added to commit but untracked files present\n"
     ]
    },
    {
     "name": "stderr",
     "output_type": "stream",
     "text": [
      "Everything up-to-date\n"
     ]
    },
    {
     "data": {
      "text/plain": [
       "0"
      ]
     },
     "execution_count": 10,
     "metadata": {},
     "output_type": "execute_result"
    }
   ],
   "source": [
    " \n",
    "os.system(\"\"\"\n",
    "echo '--' >> README.md ; \n",
    "git add README.md ; \n",
    "git commit -m \"doc: update readme\" --date \"2024-07-04 12:00:00\" ; \n",
    "git push ; \n",
    "sed '$d' README.md > tmp.md ; \n",
    "cat tmp.md > README.md\n",
    "\"\"\")"
   ]
  },
  {
   "cell_type": "code",
   "execution_count": 35,
   "metadata": {},
   "outputs": [
    {
     "name": "stdout",
     "output_type": "stream",
     "text": [
      "15\n"
     ]
    }
   ],
   "source": [
    "\n",
    "print(random.randint(1,27))"
   ]
  },
  {
   "cell_type": "code",
   "execution_count": 118,
   "metadata": {},
   "outputs": [
    {
     "name": "stdout",
     "output_type": "stream",
     "text": [
      "2024-01-04 13:14:24\n",
      "[main ef8620b] doc: update readme\n",
      " Date: Thu Jan 4 21:39:41 2024 -0300\n",
      " 1 file changed, 1 insertion(+), 3 deletions(-)\n"
     ]
    },
    {
     "name": "stderr",
     "output_type": "stream",
     "text": [
      "To https://github.com/wellingtomnnb/sercult.git\n",
      "   1a2df09..ef8620b  main -> main\n"
     ]
    },
    {
     "name": "stdout",
     "output_type": "stream",
     "text": [
      "On branch main\n",
      "Your branch is up to date with 'origin/main'.\n",
      "\n",
      "Changes not staged for commit:\n",
      "\tmodified:   README.md\n",
      "\n",
      "Untracked files:\n",
      "\ttest.ipynb\n",
      "\ttmp.md\n",
      "\n",
      "no changes added to commit\n"
     ]
    },
    {
     "name": "stderr",
     "output_type": "stream",
     "text": [
      "Everything up-to-date\n"
     ]
    },
    {
     "data": {
      "text/plain": [
       "0"
      ]
     },
     "execution_count": 118,
     "metadata": {},
     "output_type": "execute_result"
    }
   ],
   "source": [
    "from datetime import datetime, timedelta\n",
    "import random\n",
    "import os\n",
    "\n",
    "\n",
    " \n",
    "commit = lambda date: os.system(f\"\"\"\n",
    "echo '--' >> README.md ; \n",
    "git add README.md ; \n",
    "git commit -m \"doc: update readme\" --date \"{date}\" ; \n",
    "git push ; \n",
    "sed '$d' README.md > tmp.md ; \n",
    "cat tmp.md > README.md ;\n",
    "git commit -m \"doc: update readme\" --date \"{date}\" ; \n",
    "git push ; \n",
    "\"\"\")\n",
    "\n",
    "qtd_commits = random.randint(1,27)\n",
    "\n",
    "rnd_hrs = lambda: random.randint(10,23)\n",
    "rnd_min = lambda: random.randint(10,59)\n",
    "\n",
    "curr_date = datetime(2024, 1, 3)\n",
    "format_date = lambda date: f\"{str(date)[:10]} {rnd_hrs()}:{rnd_min()}:{rnd_min()}\"\n",
    "\n",
    "\n",
    "\n",
    "curr_date += timedelta(days=1)\n",
    "\n",
    "print(format_date(curr_date))\n",
    "commit(format_date(curr_date))\n"
   ]
  }
 ],
 "metadata": {
  "kernelspec": {
   "display_name": "Python 3",
   "language": "python",
   "name": "python3"
  },
  "language_info": {
   "codemirror_mode": {
    "name": "ipython",
    "version": 3
   },
   "file_extension": ".py",
   "mimetype": "text/x-python",
   "name": "python",
   "nbconvert_exporter": "python",
   "pygments_lexer": "ipython3",
   "version": "3.8.0"
  }
 },
 "nbformat": 4,
 "nbformat_minor": 2
}
